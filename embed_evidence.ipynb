{
 "cells": [
  {
   "cell_type": "code",
   "execution_count": null,
   "id": "32ef1366",
   "metadata": {},
   "outputs": [],
   "source": [
    "!pip install loguru"
   ]
  },
  {
   "cell_type": "code",
   "execution_count": null,
   "id": "230fafe4",
   "metadata": {},
   "outputs": [
    {
     "name": "stdout",
     "output_type": "stream",
     "text": [
      "/Users/mileshe/Desktop/NLP_Project/COMP90042_2025\n"
     ]
    }
   ],
   "source": []
  },
  {
   "cell_type": "code",
   "execution_count": null,
   "id": "19838290",
   "metadata": {},
   "outputs": [],
   "source": [
    "import os\n",
    "import sys\n",
    "print(os.getcwd())\n",
    "sys.path.append('Sim_tools')\n",
    "\n",
    "from Sim_tools.dataset_Sim import TrainDataset, TestDataset\n",
    "from Sim_tools.model_Sim import SimcseModel, simcse_sup_loss, simcse_unsup_loss\n",
    "from Sim_tools.train_Sim import load_train_data_supervised, train_sup\n",
    "from Sim_tools.embed_evidence import embed_evidence\n",
    "\n",
    "import torch\n",
    "import torch.nn as nn\n",
    "import torch.nn.functional as F\n",
    "from torch.utils.data import DataLoader\n",
    "from transformers import BertModel, BertConfig, BertTokenizer\n",
    "from loguru import logger\n",
    "from tqdm import tqdm\n",
    "\n",
    "import pandas as pd\n",
    "import json"
   ]
  },
  {
   "cell_type": "code",
   "execution_count": null,
   "id": "b27cef1b",
   "metadata": {},
   "outputs": [],
   "source": [
    "batch_size = 16\n",
    "max_length = 256\n",
    "device = (\n",
    "    \"cuda\"\n",
    "    if torch.cuda.is_available()\n",
    "    else \"mps\" if torch.backends.mps.is_available() else \"cpu\"\n",
    ")\n",
    "\n",
    "print(f\"Using device: {device}\")\n",
    "checkpoint = \"bert-base-uncased\"\n",
    "tokenizer = BertTokenizer.from_pretrained(checkpoint)\n",
    "model = SimcseModel(pretrained_model=checkpoint, pooling='pooler', dropout=0.1).to(device)\n",
    "model.load_state_dict(torch.load(\"saved_model/best_model.pt\", map_location=device))\n",
    "model.eval()\n",
    "\n",
    "    \n",
    "evidence_csv_path = \"data/evidence.json\"  \n",
    "output_csv_path = \"data/evidence_embed.json\" \n",
    "embed_evidence(evidence_csv_path, output_csv_path, model, tokenizer, device, max_length)"
   ]
  }
 ],
 "metadata": {
  "kernelspec": {
   "display_name": "base",
   "language": "python",
   "name": "python3"
  },
  "language_info": {
   "codemirror_mode": {
    "name": "ipython",
    "version": 3
   },
   "file_extension": ".py",
   "mimetype": "text/x-python",
   "name": "python",
   "nbconvert_exporter": "python",
   "pygments_lexer": "ipython3",
   "version": "3.12.7"
  }
 },
 "nbformat": 4,
 "nbformat_minor": 5
}
