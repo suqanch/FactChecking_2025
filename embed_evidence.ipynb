{
 "cells": [
  {
   "cell_type": "code",
   "execution_count": null,
   "id": "32ef1366",
   "metadata": {},
   "outputs": [],
   "source": [
    "!pip install loguru"
   ]
  },
  {
   "cell_type": "code",
   "execution_count": null,
   "id": "19838290",
   "metadata": {},
   "outputs": [],
   "source": [
    "from dataset_Sim import TrainDataset, TestDataset\n",
    "from model_Sim import SimcseModel, simcse_unsup_loss, simcse_sup_loss\n",
    "from train_Sim import load_train_data_supervised, train_sup\n",
    "from embed_evidence import embed_evidence\n",
    "\n",
    "import torch\n",
    "import torch.nn as nn\n",
    "import torch.nn.functional as F\n",
    "from torch.utils.data import DataLoader\n",
    "from transformers import BertModel, BertConfig, BertTokenizer\n",
    "from loguru import logger\n",
    "from tqdm import tqdm\n",
    "\n",
    "import pandas as pd\n",
    "import json"
   ]
  },
  {
   "cell_type": "code",
   "execution_count": null,
   "id": "b27cef1b",
   "metadata": {},
   "outputs": [],
   "source": [
    "batch_size = 16\n",
    "max_length = 256\n",
    "device = (\n",
    "    \"cuda\"\n",
    "    if torch.cuda.is_available()\n",
    "    else \"mps\" if torch.backends.mps.is_available() else \"cpu\"\n",
    ")\n",
    "\n",
    "print(f\"Using device: {device}\")\n",
    "checkpoint = \"bert-base-uncased\"\n",
    "tokenizer = BertTokenizer.from_pretrained(checkpoint)\n",
    "model = SimcseModel(pretrained_model=checkpoint, pooling='pooler', dropout=0.1).to(device)\n",
    "model.load_state_dict(torch.load(\"saved_model/best_model.pt\", map_location=device))\n",
    "model.eval()\n",
    "\n",
    "    \n",
    "evidence_csv_path = \"data/evidence.json\"  \n",
    "output_csv_path = \"data/evidence_embed.json\" \n",
    "embed_evidence(evidence_csv_path, output_csv_path, model, tokenizer, device, max_length)"
   ]
  }
 ],
 "metadata": {
  "language_info": {
   "name": "python"
  }
 },
 "nbformat": 4,
 "nbformat_minor": 5
}
